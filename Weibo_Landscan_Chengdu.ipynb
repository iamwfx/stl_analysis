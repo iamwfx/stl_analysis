{
 "cells": [
  {
   "cell_type": "code",
   "execution_count": 1,
   "metadata": {
    "collapsed": false
   },
   "outputs": [],
   "source": [
    "import os\n",
    "import sys\n",
    "import math as m\n",
    "import pandas as pd\n",
    "import csv\n",
    "import numpy as np\n",
    "import matplotlib.pyplot as plt\n",
    "from matplotlib import cm\n",
    "\n",
    "plt.style.use('ggplot')\n"
   ]
  },
  {
   "cell_type": "code",
   "execution_count": 2,
   "metadata": {
    "collapsed": false
   },
   "outputs": [
    {
     "name": "stderr",
     "output_type": "stream",
     "text": [
      "/usr/local/Cellar/python/2.7.8_2/Frameworks/Python.framework/Versions/2.7/lib/python2.7/site-packages/pandas/io/parsers.py:1139: DtypeWarning: Columns (7) have mixed types. Specify dtype option on import or set low_memory=False.\n",
      "  data = self._reader.read(nrows)\n"
     ]
    }
   ],
   "source": [
    "## Import data for Chengdu\n",
    "weibo_CD_pt = pd.read_csv(\"/Users/wenfeixu/Dropbox (MIT)/MIT/CDDL/STL_WeChatProject/0_data/Weibo/Chengdu/chengdu_poi_20151213.csv\",encoding=\"utf-8\")\n",
    "weibo_CD = pd.read_csv(\"/Users/wenfeixu/Dropbox (MIT)/MIT/CDDL/STL_WeChatProject/1_ShapeFiles/Weibo/Weibo_CD_landscanaggregated_gcj02.csv\",encoding=\"utf-8\")\n",
    "landscan_CD = pd.read_csv(\"/Users/wenfeixu/Dropbox (MIT)/MIT/CDDL/STL_WeChatProject/1_ShapeFiles/China_LandScan2014/GCJ02/chengdu_landscan_2014_corrected_gcj02.csv\",encoding=\"utf-8\")\n",
    "# LS = pd.read_csv(\")\n"
   ]
  },
  {
   "cell_type": "code",
   "execution_count": 3,
   "metadata": {
    "collapsed": false
   },
   "outputs": [
    {
     "name": "stdout",
     "output_type": "stream",
     "text": [
      "Index([u'FID_1', u'pointid', u'grid_code', u'population', u'distance_m', u'Count_', u'Sum_catego', u'Sum_checki', u'Sum_chec_1', u'Sum_city', u'Sum_dianpi', u'Sum_distan', u'Sum_distri', u'Sum_enterp', u'Sum_hereno', u'Sum_lat', u'Sum_lon', u'Sum_photo_', u'Sum_pintu', u'Sum_postco', u'Sum_provin', u'Sum_sale', u'Sum_select', u'Sum_spent', u'Sum_tip_nu', u'Sum_todo_n', u'Sum_weibo_'], dtype='object')\n"
     ]
    },
    {
     "data": {
      "text/html": [
       "<div style=\"max-height:1000px;max-width:1500px;overflow:auto;\">\n",
       "<table border=\"1\" class=\"dataframe\">\n",
       "  <thead>\n",
       "    <tr style=\"text-align: right;\">\n",
       "      <th></th>\n",
       "      <th>FID_1</th>\n",
       "      <th>pointid</th>\n",
       "      <th>grid_code</th>\n",
       "      <th>population</th>\n",
       "      <th>distance_m</th>\n",
       "      <th>Count_</th>\n",
       "      <th>Sum_catego</th>\n",
       "      <th>Sum_checki</th>\n",
       "      <th>Sum_chec_1</th>\n",
       "      <th>Sum_city</th>\n",
       "      <th>...</th>\n",
       "      <th>Sum_photo_</th>\n",
       "      <th>Sum_pintu</th>\n",
       "      <th>Sum_postco</th>\n",
       "      <th>Sum_provin</th>\n",
       "      <th>Sum_sale</th>\n",
       "      <th>Sum_select</th>\n",
       "      <th>Sum_spent</th>\n",
       "      <th>Sum_tip_nu</th>\n",
       "      <th>Sum_todo_n</th>\n",
       "      <th>Sum_weibo_</th>\n",
       "    </tr>\n",
       "  </thead>\n",
       "  <tbody>\n",
       "    <tr>\n",
       "      <th>0</th>\n",
       "      <td> 0</td>\n",
       "      <td> 10753007</td>\n",
       "      <td> 305</td>\n",
       "      <td> 305</td>\n",
       "      <td> 57398.170929</td>\n",
       "      <td> 0</td>\n",
       "      <td> 0</td>\n",
       "      <td> 0</td>\n",
       "      <td> 0</td>\n",
       "      <td> 0</td>\n",
       "      <td>...</td>\n",
       "      <td> 0</td>\n",
       "      <td> 0</td>\n",
       "      <td> 0</td>\n",
       "      <td> 0</td>\n",
       "      <td> 0</td>\n",
       "      <td> 0</td>\n",
       "      <td> 0</td>\n",
       "      <td> 0</td>\n",
       "      <td> 0</td>\n",
       "      <td> 0</td>\n",
       "    </tr>\n",
       "    <tr>\n",
       "      <th>1</th>\n",
       "      <td> 1</td>\n",
       "      <td> 10753008</td>\n",
       "      <td> 168</td>\n",
       "      <td> 168</td>\n",
       "      <td> 56771.422870</td>\n",
       "      <td> 0</td>\n",
       "      <td> 0</td>\n",
       "      <td> 0</td>\n",
       "      <td> 0</td>\n",
       "      <td> 0</td>\n",
       "      <td>...</td>\n",
       "      <td> 0</td>\n",
       "      <td> 0</td>\n",
       "      <td> 0</td>\n",
       "      <td> 0</td>\n",
       "      <td> 0</td>\n",
       "      <td> 0</td>\n",
       "      <td> 0</td>\n",
       "      <td> 0</td>\n",
       "      <td> 0</td>\n",
       "      <td> 0</td>\n",
       "    </tr>\n",
       "    <tr>\n",
       "      <th>2</th>\n",
       "      <td> 2</td>\n",
       "      <td> 10753006</td>\n",
       "      <td>  33</td>\n",
       "      <td>  33</td>\n",
       "      <td> 58029.179006</td>\n",
       "      <td> 0</td>\n",
       "      <td> 0</td>\n",
       "      <td> 0</td>\n",
       "      <td> 0</td>\n",
       "      <td> 0</td>\n",
       "      <td>...</td>\n",
       "      <td> 0</td>\n",
       "      <td> 0</td>\n",
       "      <td> 0</td>\n",
       "      <td> 0</td>\n",
       "      <td> 0</td>\n",
       "      <td> 0</td>\n",
       "      <td> 0</td>\n",
       "      <td> 0</td>\n",
       "      <td> 0</td>\n",
       "      <td> 0</td>\n",
       "    </tr>\n",
       "    <tr>\n",
       "      <th>3</th>\n",
       "      <td> 3</td>\n",
       "      <td> 10753044</td>\n",
       "      <td> 202</td>\n",
       "      <td> 202</td>\n",
       "      <td> 38723.238920</td>\n",
       "      <td> 0</td>\n",
       "      <td> 0</td>\n",
       "      <td> 0</td>\n",
       "      <td> 0</td>\n",
       "      <td> 0</td>\n",
       "      <td>...</td>\n",
       "      <td> 0</td>\n",
       "      <td> 0</td>\n",
       "      <td> 0</td>\n",
       "      <td> 0</td>\n",
       "      <td> 0</td>\n",
       "      <td> 0</td>\n",
       "      <td> 0</td>\n",
       "      <td> 0</td>\n",
       "      <td> 0</td>\n",
       "      <td> 0</td>\n",
       "    </tr>\n",
       "    <tr>\n",
       "      <th>4</th>\n",
       "      <td> 4</td>\n",
       "      <td> 10753043</td>\n",
       "      <td> 200</td>\n",
       "      <td> 200</td>\n",
       "      <td> 39050.786405</td>\n",
       "      <td> 0</td>\n",
       "      <td> 0</td>\n",
       "      <td> 0</td>\n",
       "      <td> 0</td>\n",
       "      <td> 0</td>\n",
       "      <td>...</td>\n",
       "      <td> 0</td>\n",
       "      <td> 0</td>\n",
       "      <td> 0</td>\n",
       "      <td> 0</td>\n",
       "      <td> 0</td>\n",
       "      <td> 0</td>\n",
       "      <td> 0</td>\n",
       "      <td> 0</td>\n",
       "      <td> 0</td>\n",
       "      <td> 0</td>\n",
       "    </tr>\n",
       "  </tbody>\n",
       "</table>\n",
       "<p>5 rows × 27 columns</p>\n",
       "</div>"
      ],
      "text/plain": [
       "   FID_1   pointid  grid_code  population    distance_m  Count_  Sum_catego  \\\n",
       "0      0  10753007        305         305  57398.170929       0           0   \n",
       "1      1  10753008        168         168  56771.422870       0           0   \n",
       "2      2  10753006         33          33  58029.179006       0           0   \n",
       "3      3  10753044        202         202  38723.238920       0           0   \n",
       "4      4  10753043        200         200  39050.786405       0           0   \n",
       "\n",
       "   Sum_checki  Sum_chec_1  Sum_city    ...     Sum_photo_  Sum_pintu  \\\n",
       "0           0           0         0    ...              0          0   \n",
       "1           0           0         0    ...              0          0   \n",
       "2           0           0         0    ...              0          0   \n",
       "3           0           0         0    ...              0          0   \n",
       "4           0           0         0    ...              0          0   \n",
       "\n",
       "   Sum_postco  Sum_provin  Sum_sale  Sum_select  Sum_spent  Sum_tip_nu  \\\n",
       "0           0           0         0           0          0           0   \n",
       "1           0           0         0           0          0           0   \n",
       "2           0           0         0           0          0           0   \n",
       "3           0           0         0           0          0           0   \n",
       "4           0           0         0           0          0           0   \n",
       "\n",
       "   Sum_todo_n  Sum_weibo_  \n",
       "0           0           0  \n",
       "1           0           0  \n",
       "2           0           0  \n",
       "3           0           0  \n",
       "4           0           0  \n",
       "\n",
       "[5 rows x 27 columns]"
      ]
     },
     "execution_count": 3,
     "metadata": {},
     "output_type": "execute_result"
    }
   ],
   "source": [
    "## Make sure everything imported correctly for Weibo Data\n",
    "print weibo_CD.columns\n",
    "weibo_CD.head()"
   ]
  },
  {
   "cell_type": "code",
   "execution_count": 4,
   "metadata": {
    "collapsed": false
   },
   "outputs": [
    {
     "name": "stdout",
     "output_type": "stream",
     "text": [
      "Index([u'pointid', u'grid_code', u'population', u'distance_m'], dtype='object')\n"
     ]
    },
    {
     "data": {
      "text/html": [
       "<div style=\"max-height:1000px;max-width:1500px;overflow:auto;\">\n",
       "<table border=\"1\" class=\"dataframe\">\n",
       "  <thead>\n",
       "    <tr style=\"text-align: right;\">\n",
       "      <th></th>\n",
       "      <th>pointid</th>\n",
       "      <th>grid_code</th>\n",
       "      <th>population</th>\n",
       "      <th>distance_m</th>\n",
       "    </tr>\n",
       "  </thead>\n",
       "  <tbody>\n",
       "    <tr>\n",
       "      <th>0</th>\n",
       "      <td> 10753007</td>\n",
       "      <td> 305</td>\n",
       "      <td> 305</td>\n",
       "      <td> 57398.170929</td>\n",
       "    </tr>\n",
       "    <tr>\n",
       "      <th>1</th>\n",
       "      <td> 10753008</td>\n",
       "      <td> 168</td>\n",
       "      <td> 168</td>\n",
       "      <td> 56771.422870</td>\n",
       "    </tr>\n",
       "    <tr>\n",
       "      <th>2</th>\n",
       "      <td> 10753006</td>\n",
       "      <td>  33</td>\n",
       "      <td>  33</td>\n",
       "      <td> 58029.179006</td>\n",
       "    </tr>\n",
       "    <tr>\n",
       "      <th>3</th>\n",
       "      <td> 10753044</td>\n",
       "      <td> 202</td>\n",
       "      <td> 202</td>\n",
       "      <td> 38723.238920</td>\n",
       "    </tr>\n",
       "    <tr>\n",
       "      <th>4</th>\n",
       "      <td> 10753043</td>\n",
       "      <td> 200</td>\n",
       "      <td> 200</td>\n",
       "      <td> 39050.786405</td>\n",
       "    </tr>\n",
       "  </tbody>\n",
       "</table>\n",
       "</div>"
      ],
      "text/plain": [
       "    pointid  grid_code  population    distance_m\n",
       "0  10753007        305         305  57398.170929\n",
       "1  10753008        168         168  56771.422870\n",
       "2  10753006         33          33  58029.179006\n",
       "3  10753044        202         202  38723.238920\n",
       "4  10753043        200         200  39050.786405"
      ]
     },
     "execution_count": 4,
     "metadata": {},
     "output_type": "execute_result"
    }
   ],
   "source": [
    "## Make sure everything imported correctly for LandScan data\n",
    "print landscan_CD.columns\n",
    "landscan_CD.head()"
   ]
  },
  {
   "cell_type": "code",
   "execution_count": 5,
   "metadata": {
    "collapsed": false
   },
   "outputs": [
    {
     "data": {
      "text/html": [
       "<div style=\"max-height:1000px;max-width:1500px;overflow:auto;\">\n",
       "<table border=\"1\" class=\"dataframe\">\n",
       "  <thead>\n",
       "    <tr style=\"text-align: right;\">\n",
       "      <th></th>\n",
       "      <th>FID</th>\n",
       "      <th>ID</th>\n",
       "      <th>grid_code</th>\n",
       "      <th>count_POIs</th>\n",
       "      <th>sum_checkin</th>\n",
       "    </tr>\n",
       "  </thead>\n",
       "  <tbody>\n",
       "    <tr>\n",
       "      <th>0</th>\n",
       "      <td> 0</td>\n",
       "      <td> 10753007</td>\n",
       "      <td> 305</td>\n",
       "      <td> 0</td>\n",
       "      <td> 0</td>\n",
       "    </tr>\n",
       "    <tr>\n",
       "      <th>1</th>\n",
       "      <td> 1</td>\n",
       "      <td> 10753008</td>\n",
       "      <td> 168</td>\n",
       "      <td> 0</td>\n",
       "      <td> 0</td>\n",
       "    </tr>\n",
       "    <tr>\n",
       "      <th>2</th>\n",
       "      <td> 2</td>\n",
       "      <td> 10753006</td>\n",
       "      <td>  33</td>\n",
       "      <td> 0</td>\n",
       "      <td> 0</td>\n",
       "    </tr>\n",
       "    <tr>\n",
       "      <th>3</th>\n",
       "      <td> 3</td>\n",
       "      <td> 10753044</td>\n",
       "      <td> 202</td>\n",
       "      <td> 0</td>\n",
       "      <td> 0</td>\n",
       "    </tr>\n",
       "    <tr>\n",
       "      <th>4</th>\n",
       "      <td> 4</td>\n",
       "      <td> 10753043</td>\n",
       "      <td> 200</td>\n",
       "      <td> 0</td>\n",
       "      <td> 0</td>\n",
       "    </tr>\n",
       "  </tbody>\n",
       "</table>\n",
       "</div>"
      ],
      "text/plain": [
       "   FID        ID  grid_code  count_POIs  sum_checkin\n",
       "0    0  10753007        305           0            0\n",
       "1    1  10753008        168           0            0\n",
       "2    2  10753006         33           0            0\n",
       "3    3  10753044        202           0            0\n",
       "4    4  10753043        200           0            0"
      ]
     },
     "execution_count": 5,
     "metadata": {},
     "output_type": "execute_result"
    }
   ],
   "source": [
    "## Drop unnecessary columns in dataframe and give columns more accurate names for WEIBO\n",
    "\n",
    "weibo_CD = weibo_CD.drop([ u'population', u'distance_m', u'Sum_catego',\\\n",
    "                          u'Sum_chec_1', u'Sum_city', u'Sum_dianpi', u'Sum_distan', u'Sum_distri',\\\n",
    "                          u'Sum_enterp', u'Sum_hereno', u'Sum_lat', u'Sum_lon', u'Sum_photo_', u'Sum_pintu', u'Sum_postco',\\\n",
    "                          u'Sum_provin', u'Sum_sale', u'Sum_select', u'Sum_spent', u'Sum_tip_nu', u'Sum_todo_n', u'Sum_weibo_',\\\n",
    "                          ],axis = 1)\n",
    "\n",
    "\n",
    "weibo_CD.columns = ['FID','ID','grid_code','count_POIs','sum_checkin']\n",
    "weibo_CD.head()\n",
    "\n"
   ]
  },
  {
   "cell_type": "code",
   "execution_count": 6,
   "metadata": {
    "collapsed": false
   },
   "outputs": [
    {
     "data": {
      "text/html": [
       "<div style=\"max-height:1000px;max-width:1500px;overflow:auto;\">\n",
       "<table border=\"1\" class=\"dataframe\">\n",
       "  <thead>\n",
       "    <tr style=\"text-align: right;\">\n",
       "      <th></th>\n",
       "      <th>ID</th>\n",
       "      <th>grid_code</th>\n",
       "      <th>pop_count</th>\n",
       "    </tr>\n",
       "  </thead>\n",
       "  <tbody>\n",
       "    <tr>\n",
       "      <th>0</th>\n",
       "      <td> 10753007</td>\n",
       "      <td> 305</td>\n",
       "      <td> 305</td>\n",
       "    </tr>\n",
       "    <tr>\n",
       "      <th>1</th>\n",
       "      <td> 10753008</td>\n",
       "      <td> 168</td>\n",
       "      <td> 168</td>\n",
       "    </tr>\n",
       "    <tr>\n",
       "      <th>2</th>\n",
       "      <td> 10753006</td>\n",
       "      <td>  33</td>\n",
       "      <td>  33</td>\n",
       "    </tr>\n",
       "    <tr>\n",
       "      <th>3</th>\n",
       "      <td> 10753044</td>\n",
       "      <td> 202</td>\n",
       "      <td> 202</td>\n",
       "    </tr>\n",
       "    <tr>\n",
       "      <th>4</th>\n",
       "      <td> 10753043</td>\n",
       "      <td> 200</td>\n",
       "      <td> 200</td>\n",
       "    </tr>\n",
       "  </tbody>\n",
       "</table>\n",
       "</div>"
      ],
      "text/plain": [
       "         ID  grid_code  pop_count\n",
       "0  10753007        305        305\n",
       "1  10753008        168        168\n",
       "2  10753006         33         33\n",
       "3  10753044        202        202\n",
       "4  10753043        200        200"
      ]
     },
     "execution_count": 6,
     "metadata": {},
     "output_type": "execute_result"
    }
   ],
   "source": [
    "## Drop unnecessary columns in dataframe and give columns more accurate names for LANDSCAN\n",
    "\n",
    "landscan_CD = landscan_CD.drop(['distance_m'],axis = 1)\n",
    "landscan_CD.columns = ['ID','grid_code','pop_count']\n",
    "landscan_CD.head()\n",
    "\n"
   ]
  },
  {
   "cell_type": "code",
   "execution_count": 7,
   "metadata": {
    "collapsed": false
   },
   "outputs": [
    {
     "name": "stderr",
     "output_type": "stream",
     "text": [
      "/Library/Python/2.7/site-packages/matplotlib-override/matplotlib/tight_layout.py:225: UserWarning: tight_layout : falling back to Agg renderer\n",
      "  warnings.warn(\"tight_layout : falling back to Agg renderer\")\n"
     ]
    }
   ],
   "source": [
    "## Histogram of Logged Landscan count\n",
    "\n",
    "fig = plt.figure()\n",
    "ax = fig.add_subplot(111)\n",
    "ax.hist([m.log(x+1) for x in landscan_CD.pop_count],bins=30)\n",
    "\n",
    "\n",
    "ax.set_xlabel('Grid IDs from Landcsan')\n",
    "ax.set_ylabel('Normalized count on grid')\n",
    "ax.set_title('Logged Landscan counts per grid')\n",
    "plt.tight_layout()\n",
    "plt.show()"
   ]
  },
  {
   "cell_type": "code",
   "execution_count": 8,
   "metadata": {
    "collapsed": false
   },
   "outputs": [],
   "source": [
    "## Histogram of Logged Weibo count\n",
    "\n",
    "fig = plt.figure()\n",
    "ax = fig.add_subplot(111)\n",
    "ax.hist([m.log(x+1) for x in weibo_CD.sum_checkin],bins=30)\n",
    "# ax.hist(weibo_SH.sum_checkin,bins=20)\n",
    "\n",
    "\n",
    "\n",
    "ax.set_xlabel('Grid IDs from Landcsan')\n",
    "ax.set_ylabel('Normalized count on grid')\n",
    "ax.set_title('Logged Weibo counts per grid')\n",
    "plt.tight_layout()\n",
    "plt.show()"
   ]
  },
  {
   "cell_type": "code",
   "execution_count": 13,
   "metadata": {
    "collapsed": false
   },
   "outputs": [],
   "source": [
    "##  Show scatter plots of original weibo and landscan side by side\n",
    "\n",
    "\n",
    "fig = plt.figure()\n",
    "ax = fig.add_subplot(111)\n",
    "ax.scatter(landscan_CD.ID, [x/float(max(landscan_CD.pop_count)) for x in landscan_CD.pop_count],marker=',',c='r',s =18)\n",
    "ax.scatter(weibo_CD.ID, [x/float(max(weibo_CD.sum_checkin)) for x in weibo_CD.sum_checkin],marker = 'o',c='b',s = 18)\n",
    "\n",
    "ax.set_xlabel('ID')\n",
    "ax.set_ylabel('Frequency')\n",
    "ax.set_title('Raw Weibo and Landscan Counts by ID ')\n",
    "plt.tight_layout()\n",
    "plt.show()\n",
    "\n",
    "\n",
    "# plt.scatter(weibo_SH.ID, weibo_SH.sum_checkin)\n",
    "# plt.show()"
   ]
  },
  {
   "cell_type": "code",
   "execution_count": 10,
   "metadata": {
    "collapsed": false
   },
   "outputs": [],
   "source": [
    "##  Show scatter plots of z-scores of weibo and landscan\n",
    "from scipy import stats\n",
    "\n",
    "\n",
    "fig = plt.figure()\n",
    "ax = fig.add_subplot(111)\n",
    "ax.scatter(landscan_CD.ID, stats.zscore(landscan_CD.pop_count),marker=',',c='r',s =18)\n",
    "ax.scatter(weibo_CD.ID, stats.zscore(weibo_CD.sum_checkin),marker = 'o',c='b',s = 18)\n",
    "\n",
    "ax.set_xlabel('ID')\n",
    "ax.set_ylabel('Z-Score')\n",
    "ax.set_title('Scatter Plot of Z-Scores for Weibo and Landscan')\n",
    "plt.tight_layout()\n",
    "plt.show()\n",
    "\n",
    "\n",
    "# plt.scatter(weibo_SH.ID, weibo_SH.sum_checkin)\n",
    "# plt.show()"
   ]
  },
  {
   "cell_type": "code",
   "execution_count": 25,
   "metadata": {
    "collapsed": false
   },
   "outputs": [
    {
     "ename": "KeyboardInterrupt",
     "evalue": "",
     "output_type": "error",
     "traceback": [
      "\u001b[0;31m---------------------------------------------------------------------------\u001b[0m\n\u001b[0;31mKeyboardInterrupt\u001b[0m                         Traceback (most recent call last)",
      "\u001b[0;32m/usr/local/Cellar/python/2.7.8_2/Frameworks/Python.framework/Versions/2.7/lib/python2.7/site-packages/matplotlib/backend_bases.pyc\u001b[0m in \u001b[0;36mkey_press_event\u001b[0;34m(self, key, guiEvent)\u001b[0m\n\u001b[1;32m   1836\u001b[0m             \u001b[0;31m# with an open window; 'callbacks' attribute no longer exists.\u001b[0m\u001b[0;34m\u001b[0m\u001b[0;34m\u001b[0m\u001b[0m\n\u001b[1;32m   1837\u001b[0m \u001b[0;34m\u001b[0m\u001b[0m\n\u001b[0;32m-> 1838\u001b[0;31m     \u001b[0;32mdef\u001b[0m \u001b[0mkey_press_event\u001b[0m\u001b[0;34m(\u001b[0m\u001b[0mself\u001b[0m\u001b[0;34m,\u001b[0m \u001b[0mkey\u001b[0m\u001b[0;34m,\u001b[0m \u001b[0mguiEvent\u001b[0m\u001b[0;34m=\u001b[0m\u001b[0mNone\u001b[0m\u001b[0;34m)\u001b[0m\u001b[0;34m:\u001b[0m\u001b[0;34m\u001b[0m\u001b[0m\n\u001b[0m\u001b[1;32m   1839\u001b[0m         \"\"\"\n\u001b[1;32m   1840\u001b[0m         \u001b[0mThis\u001b[0m \u001b[0mmethod\u001b[0m \u001b[0mwill\u001b[0m \u001b[0mbe\u001b[0m \u001b[0mcall\u001b[0m \u001b[0mall\u001b[0m \u001b[0mfunctions\u001b[0m \u001b[0mconnected\u001b[0m \u001b[0mto\u001b[0m \u001b[0mthe\u001b[0m\u001b[0;34m\u001b[0m\u001b[0m\n",
      "\u001b[0;31mKeyboardInterrupt\u001b[0m: "
     ]
    }
   ],
   "source": [
    "# ## Test plot with colormapping\n",
    "\n",
    "# landscan_SH_stddev = [(x - np.mean(landscan_SH.pop_count))/float(np.std(landscan_SH.pop_count)) for x in landscan_SH.pop_count]\n",
    "# landscan_SH_stddev_NORM = [(x - min(landscan_SH_stddev))/float(max(landscan_SH_stddev)-min(landscan_SH_stddev)) for x in landscan_SH_stddev]\n",
    "\n",
    "# cm = plt.get_cmap('hsv')\n",
    "# plt.scatter(landscan_SH.ID, landscan_SH.pop_count,marker=',', c=landscan_SH_stddev_NORM, cmap=cm,s =8)\n",
    "\n",
    "# plt.colorbar()\n",
    "# plt.show()"
   ]
  },
  {
   "cell_type": "code",
   "execution_count": 15,
   "metadata": {
    "collapsed": false
   },
   "outputs": [
    {
     "name": "stdout",
     "output_type": "stream",
     "text": [
      "[[ 1.          0.42642906]\n",
      " [ 0.42642906  1.        ]]\n"
     ]
    }
   ],
   "source": [
    "## Correlation analysis for raw data\n",
    "corr_CD = np.corrcoef(landscan_CD.sort('ID', ascending =True).pop_count, weibo_CD.sort('ID', ascending =True).sum_checkin)\n",
    "print corr_CD"
   ]
  },
  {
   "cell_type": "code",
   "execution_count": 16,
   "metadata": {
    "collapsed": false
   },
   "outputs": [
    {
     "name": "stdout",
     "output_type": "stream",
     "text": [
      "[[ 1.          0.49547076]\n",
      " [ 0.49547076  1.        ]]\n"
     ]
    }
   ],
   "source": [
    "## Correlation analysis for LOGGED data\n",
    "corr_CD = np.corrcoef([m.log(x+1) for x in landscan_CD.sort('ID', ascending =True).pop_count], [m.log(x+1) for x in weibo_CD.sort('ID', ascending =True).sum_checkin])\n",
    "print corr_CD"
   ]
  },
  {
   "cell_type": "code",
   "execution_count": 21,
   "metadata": {
    "collapsed": false
   },
   "outputs": [
    {
     "name": "stdout",
     "output_type": "stream",
     "text": [
      "[[ 1.          0.45161952]\n",
      " [ 0.45161952  1.        ]]\n"
     ]
    }
   ],
   "source": [
    "# ## Create joined dataset \n",
    "# joined_SH = pd.merge(landscan_SH.sort('ID', ascending =True), weibo_SH.sort('ID', ascending =True), how='inner')\n",
    "\n",
    "# ## Find correlation of just non-zero grids\n",
    "# corr_SH_new = np.corrcoef(joined_SH[joined_SH.sum_checkin !=0].pop_count, joined_SH[joined_SH.sum_checkin !=0].sum_checkin)\n",
    "# print corr_SH_new"
   ]
  },
  {
   "cell_type": "code",
   "execution_count": 17,
   "metadata": {
    "collapsed": false
   },
   "outputs": [],
   "source": [
    "## Find \"subtraction\" between Landscan and Weibo z-scores of LOGGED counts\n",
    "\n",
    "fig = plt.figure()\n",
    "ax = fig.add_subplot(111)\n",
    "\n",
    "ax.scatter(landscan_CD.ID,  stats.zscore([m.log(x+1) for x in landscan_CD.pop_count])- stats.zscore([m.log(x+1) for x in weibo_CD.sum_checkin]),marker=',',c='r',s =18)\n",
    "\n",
    "ax.set_xlabel('Grid IDs from Landcsan')\n",
    "ax.set_ylabel('Diff of Normalized Counts')\n",
    "ax.set_title('\"Subtraction\" between Weibo and Landscan Z-Scores counts by grid')\n",
    "plt.tight_layout()\n",
    "plt.show()\n",
    "\n"
   ]
  },
  {
   "cell_type": "code",
   "execution_count": 12,
   "metadata": {
    "collapsed": false
   },
   "outputs": [],
   "source": [
    "## Export Results of Z-score and subtraction analysis\n",
    "\n",
    "results_CD = landscan_CD\n",
    "results_CD['weibo_count'] = weibo_CD['sum_checkin']\n",
    "results_CD['zscore_Landscan']=stats.zscore(landscan_CD.pop_count)\n",
    "results_CD['zscore_ln_Landscan']=stats.zscore([m.log(x+1) for x in landscan_CD.pop_count])\n",
    "results_CD['zscore_Weibo']=stats.zscore([m.log(x+1) for x in weibo_CD.sum_checkin])\n",
    "results_CD['zscore_ln_Weibo']=stats.zscore(weibo_CD.sum_checkin)\n",
    "\n",
    "\n",
    "results_CD['diff'] = results_CD['zscore_Landscan']-results_CD['zscore_Weibo']\n",
    "results_CD['diff_ln'] = results_CD['zscore_ln_Landscan']-results_CD['zscore_ln_Weibo']\n",
    "results_CD.head()\n",
    "\n",
    "results_CD.to_csv('/Users/wenfeixu/Dropbox (MIT)/MIT/CDDL/STL_WeChatProject/0_data/Weibo_Landscan_Analysis/weibo_landscan_results_CD.csv',encoding=\"utf-8\")"
   ]
  },
  {
   "cell_type": "code",
   "execution_count": 22,
   "metadata": {
    "collapsed": false
   },
   "outputs": [],
   "source": [
    "# ##  Show scatter plots of weibo and landscan side by side with only non-zero Weibo checkins\n",
    "\n",
    "# # plt.scatter(weibo_SH.ID,[a/max(weibo_SH.sum_checkin) for a in weibo_SH.sum_checkin])\n",
    "\n",
    "# fig = plt.figure()\n",
    "# ax = fig.add_subplot(111)\n",
    "# ax.scatter(joined_SH[joined_SH.sum_checkin !=0].ID, [(x - np.mean(joined_SH[joined_SH.sum_checkin !=0].pop_count))\\\n",
    "#                                                      /float(np.std(joined_SH[joined_SH.sum_checkin !=0].pop_count)) for x in \\\n",
    "#                                                      joined_SH[joined_SH.sum_checkin !=0].pop_count]\\\n",
    "# ,marker=',',c='r',s =14)\n",
    "# ax.scatter(joined_SH[joined_SH.sum_checkin !=0].ID, [(x- np.mean(joined_SH[joined_SH.sum_checkin !=0].sum_checkin))\\\n",
    "#                                                       /float(np.std(joined_SH[joined_SH.sum_checkin !=0].sum_checkin)) for x in\\\n",
    "#                                                       joined_SH[joined_SH.sum_checkin !=0].sum_checkin]\\\n",
    "#                                                       ,marker = 'o',c='b',s = 14)\n",
    "\n",
    "# ax.set_xlabel('Grid IDs from Landcsan')\n",
    "# ax.set_ylabel('Normalized count on grid')\n",
    "# ax.set_title('Weibo and Landscan counts per grid')\n",
    "# plt.tight_layout()\n",
    "# plt.show()\n",
    "\n"
   ]
  }
 ],
 "metadata": {
  "kernelspec": {
   "display_name": "Python 2",
   "language": "python",
   "name": "python2"
  },
  "language_info": {
   "codemirror_mode": {
    "name": "ipython",
    "version": 2
   },
   "file_extension": ".py",
   "mimetype": "text/x-python",
   "name": "python",
   "nbconvert_exporter": "python",
   "pygments_lexer": "ipython2",
   "version": "2.7.11"
  }
 },
 "nbformat": 4,
 "nbformat_minor": 0
}
