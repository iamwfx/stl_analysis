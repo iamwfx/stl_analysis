{
 "cells": [
  {
   "cell_type": "code",
   "execution_count": 1,
   "metadata": {
    "collapsed": true
   },
   "outputs": [],
   "source": [
    "import os\n",
    "import sys\n",
    "import math as m\n",
    "import pandas as pd\n",
    "import csv\n",
    "import numpy as np\n",
    "import matplotlib.pyplot as plt\n",
    "from matplotlib import cm\n",
    "\n",
    "plt.style.use('ggplot')"
   ]
  },
  {
   "cell_type": "code",
   "execution_count": 5,
   "metadata": {
    "collapsed": false
   },
   "outputs": [],
   "source": [
    "## Import data for Shanghai\n",
    "dianping_chengdu_pt = pd.read_csv(\"/Users/wenfeixu/Dropbox (MIT)/MIT/CDDL/STL_WeChatProject/0_data/Dianping/dianpingbusiness_1.csv\",encoding=\"utf-8\")\n",
    "dianping_chengdu = pd.read_csv(\"/Users/wenfeixu/Dropbox (MIT)/MIT/CDDL/STL_WeChatProject/1_ShapeFiles/working/fang_jan13/fang_chengdu_aggregated_residential.csv\",encoding=\"utf-8\")\n",
    "landscan_chengdu = pd.read_csv(\"/Users/wenfeixu/Dropbox (MIT)/MIT/CDDL/STL_WeChatProject/1_ShapeFiles/China_LandScan2014/GCJ02/chengdu_landscan_2014_corrected_gcj02.csv\",encoding=\"utf-8\")\n",
    "# LS = pd.read_csv(\")"
   ]
  },
  {
   "cell_type": "code",
   "execution_count": null,
   "metadata": {
    "collapsed": false
   },
   "outputs": [],
   "source": [
    "# Make sure everything imported correctly for Fang\n",
    "print dianping_chengdu_pt.columns\n",
    "dianping_chengdu_pt.head()\n",
    "\n",
    "dianping_chengdu_pt.groupby('category').sum()"
   ]
  },
  {
   "cell_type": "code",
   "execution_count": 14,
   "metadata": {
    "collapsed": false
   },
   "outputs": [
    {
     "name": "stdout",
     "output_type": "stream",
     "text": [
      "Index([u'pointid', u'grid_code', u'population', u'distance_m', u'PNTCNT', u'avg_price_mean', u'max_price_mean', u'min_price_mean', u'avg_size_mean', u'max_size_mean', u'avg_psm_mean'], dtype='object')\n"
     ]
    },
    {
     "data": {
      "text/html": [
       "<div style=\"max-height:1000px;max-width:1500px;overflow:auto;\">\n",
       "<table border=\"1\" class=\"dataframe\">\n",
       "  <thead>\n",
       "    <tr style=\"text-align: right;\">\n",
       "      <th></th>\n",
       "      <th>pointid</th>\n",
       "      <th>grid_code</th>\n",
       "      <th>population</th>\n",
       "      <th>distance_m</th>\n",
       "      <th>PNTCNT</th>\n",
       "      <th>avg_price_mean</th>\n",
       "      <th>max_price_mean</th>\n",
       "      <th>min_price_mean</th>\n",
       "      <th>avg_size_mean</th>\n",
       "      <th>max_size_mean</th>\n",
       "      <th>avg_psm_mean</th>\n",
       "    </tr>\n",
       "  </thead>\n",
       "  <tbody>\n",
       "    <tr>\n",
       "      <th>0</th>\n",
       "      <td> 10753007</td>\n",
       "      <td> 305</td>\n",
       "      <td> 305</td>\n",
       "      <td> 57398.170929</td>\n",
       "      <td> 0</td>\n",
       "      <td> 0</td>\n",
       "      <td> 0</td>\n",
       "      <td> 0</td>\n",
       "      <td> 0</td>\n",
       "      <td> 0</td>\n",
       "      <td> 0</td>\n",
       "    </tr>\n",
       "    <tr>\n",
       "      <th>1</th>\n",
       "      <td> 10753008</td>\n",
       "      <td> 168</td>\n",
       "      <td> 168</td>\n",
       "      <td> 56771.422870</td>\n",
       "      <td> 0</td>\n",
       "      <td> 0</td>\n",
       "      <td> 0</td>\n",
       "      <td> 0</td>\n",
       "      <td> 0</td>\n",
       "      <td> 0</td>\n",
       "      <td> 0</td>\n",
       "    </tr>\n",
       "    <tr>\n",
       "      <th>2</th>\n",
       "      <td> 10753006</td>\n",
       "      <td>  33</td>\n",
       "      <td>  33</td>\n",
       "      <td> 58029.179006</td>\n",
       "      <td> 0</td>\n",
       "      <td> 0</td>\n",
       "      <td> 0</td>\n",
       "      <td> 0</td>\n",
       "      <td> 0</td>\n",
       "      <td> 0</td>\n",
       "      <td> 0</td>\n",
       "    </tr>\n",
       "    <tr>\n",
       "      <th>3</th>\n",
       "      <td> 10753044</td>\n",
       "      <td> 202</td>\n",
       "      <td> 202</td>\n",
       "      <td> 38723.238920</td>\n",
       "      <td> 0</td>\n",
       "      <td> 0</td>\n",
       "      <td> 0</td>\n",
       "      <td> 0</td>\n",
       "      <td> 0</td>\n",
       "      <td> 0</td>\n",
       "      <td> 0</td>\n",
       "    </tr>\n",
       "    <tr>\n",
       "      <th>4</th>\n",
       "      <td> 10753043</td>\n",
       "      <td> 200</td>\n",
       "      <td> 200</td>\n",
       "      <td> 39050.786405</td>\n",
       "      <td> 0</td>\n",
       "      <td> 0</td>\n",
       "      <td> 0</td>\n",
       "      <td> 0</td>\n",
       "      <td> 0</td>\n",
       "      <td> 0</td>\n",
       "      <td> 0</td>\n",
       "    </tr>\n",
       "  </tbody>\n",
       "</table>\n",
       "</div>"
      ],
      "text/plain": [
       "    pointid  grid_code  population    distance_m  PNTCNT  avg_price_mean  \\\n",
       "0  10753007        305         305  57398.170929       0               0   \n",
       "1  10753008        168         168  56771.422870       0               0   \n",
       "2  10753006         33          33  58029.179006       0               0   \n",
       "3  10753044        202         202  38723.238920       0               0   \n",
       "4  10753043        200         200  39050.786405       0               0   \n",
       "\n",
       "   max_price_mean  min_price_mean  avg_size_mean  max_size_mean  avg_psm_mean  \n",
       "0               0               0              0              0             0  \n",
       "1               0               0              0              0             0  \n",
       "2               0               0              0              0             0  \n",
       "3               0               0              0              0             0  \n",
       "4               0               0              0              0             0  "
      ]
     },
     "execution_count": 14,
     "metadata": {},
     "output_type": "execute_result"
    }
   ],
   "source": [
    "# Remove null values from Fang, fill with zero\n",
    "dianping_chengdu = dianping_chengdu.fillna(0)\n",
    "print dianping_chengdu.columns\n",
    "dianping_chengdu.head()"
   ]
  },
  {
   "cell_type": "code",
   "execution_count": 5,
   "metadata": {
    "collapsed": false
   },
   "outputs": [
    {
     "name": "stdout",
     "output_type": "stream",
     "text": [
      "Index([u'pointid', u'grid_code', u'population', u'distance_m'], dtype='object')\n"
     ]
    },
    {
     "data": {
      "text/html": [
       "<div>\n",
       "<table border=\"1\" class=\"dataframe\">\n",
       "  <thead>\n",
       "    <tr style=\"text-align: right;\">\n",
       "      <th></th>\n",
       "      <th>pointid</th>\n",
       "      <th>grid_code</th>\n",
       "      <th>population</th>\n",
       "      <th>distance_m</th>\n",
       "    </tr>\n",
       "  </thead>\n",
       "  <tbody>\n",
       "    <tr>\n",
       "      <th>0</th>\n",
       "      <td>10753007</td>\n",
       "      <td>305</td>\n",
       "      <td>305</td>\n",
       "      <td>57398.170929</td>\n",
       "    </tr>\n",
       "    <tr>\n",
       "      <th>1</th>\n",
       "      <td>10753008</td>\n",
       "      <td>168</td>\n",
       "      <td>168</td>\n",
       "      <td>56771.422870</td>\n",
       "    </tr>\n",
       "    <tr>\n",
       "      <th>2</th>\n",
       "      <td>10753006</td>\n",
       "      <td>33</td>\n",
       "      <td>33</td>\n",
       "      <td>58029.179006</td>\n",
       "    </tr>\n",
       "    <tr>\n",
       "      <th>3</th>\n",
       "      <td>10753044</td>\n",
       "      <td>202</td>\n",
       "      <td>202</td>\n",
       "      <td>38723.238920</td>\n",
       "    </tr>\n",
       "    <tr>\n",
       "      <th>4</th>\n",
       "      <td>10753043</td>\n",
       "      <td>200</td>\n",
       "      <td>200</td>\n",
       "      <td>39050.786405</td>\n",
       "    </tr>\n",
       "  </tbody>\n",
       "</table>\n",
       "</div>"
      ],
      "text/plain": [
       "    pointid  grid_code  population    distance_m\n",
       "0  10753007        305         305  57398.170929\n",
       "1  10753008        168         168  56771.422870\n",
       "2  10753006         33          33  58029.179006\n",
       "3  10753044        202         202  38723.238920\n",
       "4  10753043        200         200  39050.786405"
      ]
     },
     "execution_count": 5,
     "metadata": {},
     "output_type": "execute_result"
    }
   ],
   "source": [
    "# Make sure LandScan imported correctly\n",
    "print landscan_chengdu.columns\n",
    "landscan_chengdu.head()"
   ]
  },
  {
   "cell_type": "code",
   "execution_count": 15,
   "metadata": {
    "collapsed": false
   },
   "outputs": [
    {
     "name": "stderr",
     "output_type": "stream",
     "text": [
      "/Library/Python/2.7/site-packages/matplotlib-override/matplotlib/tight_layout.py:225: UserWarning: tight_layout : falling back to Agg renderer\n",
      "  warnings.warn(\"tight_layout : falling back to Agg renderer\")\n"
     ]
    }
   ],
   "source": [
    "## Histogram of Logged Landscan count\n",
    "fig = plt.figure()\n",
    "ax = fig.add_subplot(111)\n",
    "ax.hist([m.log(x+1) for x in landscan_chengdu.population],bins=30)\n",
    "\n",
    "ax.set_xlabel('Grid IDs from Landcsan')\n",
    "ax.set_ylabel('Normalized count on grid')\n",
    "ax.set_title('Logged Landscan population per grid')\n",
    "plt.tight_layout()\n",
    "plt.show()"
   ]
  },
  {
   "cell_type": "code",
   "execution_count": 16,
   "metadata": {
    "collapsed": false
   },
   "outputs": [],
   "source": [
    "## Histogram of Logged Fang listing count (run again using Fang prices)\n",
    "fig = plt.figure()\n",
    "ax = fig.add_subplot(111)\n",
    "ax.hist([m.log(x+1) for x in dianping_chengdu.PNTCNT],bins=30)\n",
    "# ax.hist(weibo_SH.sum_checkin,bins=20)\n",
    "\n",
    "ax.set_xlabel('Grid IDs from Landcsan')\n",
    "ax.set_ylabel('Normalized count on grid')\n",
    "ax.set_title('Logged Fang listings per grid')\n",
    "plt.tight_layout()\n",
    "plt.show()"
   ]
  },
  {
   "cell_type": "code",
   "execution_count": 18,
   "metadata": {
    "collapsed": false
   },
   "outputs": [],
   "source": [
    "##  Show scatter plots of original weibo and landscan side by side by ID\n",
    "fig = plt.figure()\n",
    "ax = fig.add_subplot(111)\n",
    "ax.scatter(landscan_chengdu.pointid, [x/float(max(landscan_chengdu.population)) for x in landscan_chengdu.population],marker=',',c='r',s =18)\n",
    "ax.scatter(dianping_chengdu.pointid, [x/float(max(dianping_chengdu.PNTCNT)) for x in dianping_chengdu.PNTCNT],marker = 'o',c='b',s = 18)\n",
    "\n",
    "ax.set_xlabel('ID')\n",
    "ax.set_ylabel('Frequency')\n",
    "ax.set_title('Raw Fang and Landscan Counts by ID ')\n",
    "plt.tight_layout()\n",
    "plt.show()"
   ]
  },
  {
   "cell_type": "code",
   "execution_count": null,
   "metadata": {
    "collapsed": true
   },
   "outputs": [],
   "source": [
    "##  Show scatter plots of original weibo and landscan side by side by Distance from City Center\n",
    "fig = plt.figure()\n",
    "ax = fig.add_subplot(111)\n",
    "ax.scatter(landscan_chengdu.distance_m, [x/float(max(landscan_chengdu.population)) for x in landscan_chengdu.population],marker=',',c='r',s =18)\n",
    "ax.scatter(dianping_chengdu.distance_m, [x/float(max(dianping_chengdu.PNTCNT)) for x in dianping_chengdu.PNTCNT],marker = 'o',c='b',s = 18)\n",
    "\n",
    "ax.set_xlabel('ID')\n",
    "ax.set_ylabel('Frequency')\n",
    "ax.set_title('Raw Fang and Landscan Counts by Distance from City Center')\n",
    "plt.tight_layout()\n",
    "plt.show()"
   ]
  },
  {
   "cell_type": "code",
   "execution_count": 13,
   "metadata": {
    "collapsed": false
   },
   "outputs": [
    {
     "ename": "NameError",
     "evalue": "name 'fang_chengdu' is not defined",
     "output_type": "error",
     "traceback": [
      "\u001b[0;31m---------------------------------------------------------------------------\u001b[0m",
      "\u001b[0;31mNameError\u001b[0m                                 Traceback (most recent call last)",
      "\u001b[0;32m<ipython-input-13-b101c758aac0>\u001b[0m in \u001b[0;36m<module>\u001b[0;34m()\u001b[0m\n\u001b[1;32m      5\u001b[0m \u001b[0max\u001b[0m \u001b[0;34m=\u001b[0m \u001b[0mfig\u001b[0m\u001b[0;34m.\u001b[0m\u001b[0madd_subplot\u001b[0m\u001b[0;34m(\u001b[0m\u001b[0;36m111\u001b[0m\u001b[0;34m)\u001b[0m\u001b[0;34m\u001b[0m\u001b[0m\n\u001b[1;32m      6\u001b[0m \u001b[0max\u001b[0m\u001b[0;34m.\u001b[0m\u001b[0mscatter\u001b[0m\u001b[0;34m(\u001b[0m\u001b[0mlandscan_chengdu\u001b[0m\u001b[0;34m.\u001b[0m\u001b[0mpointid\u001b[0m\u001b[0;34m,\u001b[0m \u001b[0mstats\u001b[0m\u001b[0;34m.\u001b[0m\u001b[0mzscore\u001b[0m\u001b[0;34m(\u001b[0m\u001b[0mlandscan_chengdu\u001b[0m\u001b[0;34m.\u001b[0m\u001b[0mpopulation\u001b[0m\u001b[0;34m)\u001b[0m\u001b[0;34m,\u001b[0m\u001b[0mmarker\u001b[0m\u001b[0;34m=\u001b[0m\u001b[0;34m','\u001b[0m\u001b[0;34m,\u001b[0m\u001b[0mc\u001b[0m\u001b[0;34m=\u001b[0m\u001b[0;34m'r'\u001b[0m\u001b[0;34m,\u001b[0m\u001b[0ms\u001b[0m \u001b[0;34m=\u001b[0m\u001b[0;36m18\u001b[0m\u001b[0;34m)\u001b[0m\u001b[0;34m\u001b[0m\u001b[0m\n\u001b[0;32m----> 7\u001b[0;31m \u001b[0max\u001b[0m\u001b[0;34m.\u001b[0m\u001b[0mscatter\u001b[0m\u001b[0;34m(\u001b[0m\u001b[0mfang_chengdu\u001b[0m\u001b[0;34m.\u001b[0m\u001b[0mpointid\u001b[0m\u001b[0;34m,\u001b[0m \u001b[0mstats\u001b[0m\u001b[0;34m.\u001b[0m\u001b[0mzscore\u001b[0m\u001b[0;34m(\u001b[0m\u001b[0mfang_chengdu\u001b[0m\u001b[0;34m.\u001b[0m\u001b[0mPNTCNT\u001b[0m\u001b[0;34m)\u001b[0m\u001b[0;34m,\u001b[0m\u001b[0mmarker\u001b[0m \u001b[0;34m=\u001b[0m \u001b[0;34m'o'\u001b[0m\u001b[0;34m,\u001b[0m\u001b[0mc\u001b[0m\u001b[0;34m=\u001b[0m\u001b[0;34m'b'\u001b[0m\u001b[0;34m,\u001b[0m\u001b[0ms\u001b[0m \u001b[0;34m=\u001b[0m \u001b[0;36m18\u001b[0m\u001b[0;34m)\u001b[0m\u001b[0;34m\u001b[0m\u001b[0m\n\u001b[0m\u001b[1;32m      8\u001b[0m \u001b[0;34m\u001b[0m\u001b[0m\n\u001b[1;32m      9\u001b[0m \u001b[0max\u001b[0m\u001b[0;34m.\u001b[0m\u001b[0mset_xlabel\u001b[0m\u001b[0;34m(\u001b[0m\u001b[0;34m'ID'\u001b[0m\u001b[0;34m)\u001b[0m\u001b[0;34m\u001b[0m\u001b[0m\n",
      "\u001b[0;31mNameError\u001b[0m: name 'fang_chengdu' is not defined"
     ]
    }
   ],
   "source": [
    "##  Show scatter plots of z-scores of Fang and LandScan\n",
    "from scipy import stats\n",
    "\n",
    "fig = plt.figure()\n",
    "ax = fig.add_subplot(111)\n",
    "ax.scatter(landscan_chengdu.pointid, stats.zscore(landscan_chengdu.population),marker=',',c='r',s =18)\n",
    "ax.scatter(fang_chengdu.pointid, stats.zscore(fang_chengdu.PNTCNT),marker = 'o',c='b',s = 18)\n",
    "\n",
    "ax.set_xlabel('ID')\n",
    "ax.set_ylabel('Z-Score')\n",
    "ax.set_title('Scatter Plot of Z-Scores for Fang and Landscan')\n",
    "plt.tight_layout()\n",
    "plt.show()\n",
    "\n",
    "\n",
    "# plt.scatter(weibo_SH.ID, weibo_SH.sum_checkin)\n",
    "# plt.show()"
   ]
  },
  {
   "cell_type": "code",
   "execution_count": 11,
   "metadata": {
    "collapsed": false
   },
   "outputs": [
    {
     "name": "stdout",
     "output_type": "stream",
     "text": [
      "[[ 1.          0.30454277]\n",
      " [ 0.30454277  1.        ]]\n"
     ]
    },
    {
     "name": "stderr",
     "output_type": "stream",
     "text": [
      "/Users/mjfoster/anaconda/lib/python2.7/site-packages/ipykernel/__main__.py:2: FutureWarning: sort(columns=....) is deprecated, use sort_values(by=.....)\n",
      "  from ipykernel import kernelapp as app\n"
     ]
    }
   ],
   "source": [
    "## Correlation analysis for raw data\n",
    "corr_CD = np.corrcoef(landscan_chengdu.sort('pointid', ascending=True).population, fang_chengdu.sort('pointid', ascending=True).PNTCNT)\n",
    "print corr_CD"
   ]
  },
  {
   "cell_type": "code",
   "execution_count": 12,
   "metadata": {
    "collapsed": false
   },
   "outputs": [
    {
     "name": "stdout",
     "output_type": "stream",
     "text": [
      "[[ 1.          0.40096225]\n",
      " [ 0.40096225  1.        ]]\n"
     ]
    },
    {
     "name": "stderr",
     "output_type": "stream",
     "text": [
      "/Users/mjfoster/anaconda/lib/python2.7/site-packages/ipykernel/__main__.py:2: FutureWarning: sort(columns=....) is deprecated, use sort_values(by=.....)\n",
      "  from ipykernel import kernelapp as app\n"
     ]
    }
   ],
   "source": [
    "## Correlation analysis for LOGGED data\n",
    "corr_CD = np.corrcoef([m.log(x+1) for x in landscan_chengdu.sort('pointid', ascending=True).population], [m.log(x+1) for x in fang_chengdu.num_reviews('pointid', ascending=True).PNTCNT])\n",
    "print corr_CD"
   ]
  },
  {
   "cell_type": "code",
   "execution_count": 13,
   "metadata": {
    "collapsed": false
   },
   "outputs": [],
   "source": [
    "## Find \"subtraction\" between Landscan and Weibo z-scores of LOGGED counts\n",
    "\n",
    "fig = plt.figure()\n",
    "ax = fig.add_subplot(111)\n",
    "\n",
    "ax.scatter(landscan_chengdu.pointid,stats.zscore([m.log(x+1) for x in landscan_chengdu.population])- stats.zscore([m.log(x+1) for x in fang_chengdu.PNTCNT]),marker=',',c='r',s =18)\n",
    "\n",
    "ax.set_xlabel('Grid IDs from Landcsan')\n",
    "ax.set_ylabel('Diff of Normalized Counts')\n",
    "ax.set_title('\"Subtraction\" between Fang and Landscan Z-Scores counts by grid')\n",
    "plt.tight_layout()\n",
    "plt.show()"
   ]
  },
  {
   "cell_type": "code",
   "execution_count": 16,
   "metadata": {
    "collapsed": false
   },
   "outputs": [],
   "source": [
    "## Export Results of Z-score and subtraction analysis\n",
    "\n",
    "results_CD = landscan_chengdu\n",
    "results_CD['fang_count'] = fang_chengdu['PNTCNT']\n",
    "results_CD['zscore_Landscan']=stats.zscore(landscan_chengdu.population)\n",
    "results_CD['zscore_ln_Landscan']=stats.zscore([m.log(x+1) for x in landscan_chengdu.population])\n",
    "results_CD['zscore_Fang']=stats.zscore([m.log(x+1) for x in fang_chengdu.PNTCNT])\n",
    "results_CD['zscore_ln_Fang']=stats.zscore(fang_chengdu.PNTCNT)\n",
    "\n",
    "\n",
    "results_CD['diff'] = results_CD['zscore_Landscan']-results_CD['zscore_Fang']\n",
    "results_CD['diff_ln'] = results_CD['zscore_ln_Landscan']-results_CD['zscore_ln_Fang']\n",
    "results_CD.head()\n",
    "\n",
    "results_CD.to_csv('/Users/mjfoster/Dropbox (MIT)/STL_WeChatProject/1_ShapeFiles/working/fang_jan13/fang_landscan_results_CD_counts.csv',encoding=\"utf-8\")"
   ]
  },
  {
   "cell_type": "code",
   "execution_count": null,
   "metadata": {
    "collapsed": false
   },
   "outputs": [],
   "source": [
    "print \"notebook complete\""
   ]
  }
 ],
 "metadata": {
  "kernelspec": {
   "display_name": "Python 2",
   "language": "python",
   "name": "python2"
  },
  "language_info": {
   "codemirror_mode": {
    "name": "ipython",
    "version": 2
   },
   "file_extension": ".py",
   "mimetype": "text/x-python",
   "name": "python",
   "nbconvert_exporter": "python",
   "pygments_lexer": "ipython2",
   "version": "2.7.8"
  }
 },
 "nbformat": 4,
 "nbformat_minor": 0
}
