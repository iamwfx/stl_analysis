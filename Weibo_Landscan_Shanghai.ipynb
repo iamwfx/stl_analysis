{
 "cells": [
  {
   "cell_type": "code",
   "execution_count": 35,
   "metadata": {
    "collapsed": false
   },
   "outputs": [],
   "source": [
    "import os\n",
    "import sys\n",
    "import math as m\n",
    "import pandas as pd\n",
    "import csv\n",
    "import numpy as np\n",
    "import matplotlib.pyplot as plt\n",
    "from matplotlib import cm\n",
    "\n",
    "plt.style.use('ggplot')\n"
   ]
  },
  {
   "cell_type": "code",
   "execution_count": 36,
   "metadata": {
    "collapsed": false
   },
   "outputs": [],
   "source": [
    "## Import data for Shanghai\n",
    "weibo_SH_pt = pd.read_csv(\"/Users/wenfeixu/Dropbox (MIT)/MIT/CDDL/STL_WeChatProject/0_data/Weibo/Shanghai/shanghai_poi_20151211.csv\",encoding=\"utf-8\")\n",
    "weibo_SH = pd.read_csv(\"/Users/wenfeixu/Dropbox (MIT)/MIT/CDDL/STL_WeChatProject/1_ShapeFiles/Weibo/Weibo_SH_landscanaggregated_gcj02.csv\",encoding=\"utf-8\")\n",
    "landscan_SH = pd.read_csv(\"/Users/wenfeixu/Dropbox (MIT)/MIT/CDDL/STL_WeChatProject/1_ShapeFiles/China_LandScan2014/GCJ02/shanghai_landscan_2014_corrected_gcj02.csv\",encoding=\"utf-8\")\n",
    "# LS = pd.read_csv(\")\n"
   ]
  },
  {
   "cell_type": "code",
   "execution_count": 37,
   "metadata": {
    "collapsed": false
   },
   "outputs": [
    {
     "name": "stdout",
     "output_type": "stream",
     "text": [
      "Index([u'FID_1', u'pointid', u'grid_code', u'population', u'distance_m', u'Count_', u'Sum_catego', u'Sum_checki', u'Sum_chec_1', u'Sum_city', u'Sum_dianpi', u'Sum_distan', u'Sum_distri', u'Sum_enterp', u'Sum_hereno', u'Sum_lat', u'Sum_lon', u'Sum_photo_', u'Sum_pintu', u'Sum_postco', u'Sum_provin', u'Sum_sale', u'Sum_select', u'Sum_spent', u'Sum_tip_nu', u'Sum_todo_n', u'Sum_weibo_', u'Sum_rowid_'], dtype='object')\n"
     ]
    },
    {
     "data": {
      "text/html": [
       "<div style=\"max-height:1000px;max-width:1500px;overflow:auto;\">\n",
       "<table border=\"1\" class=\"dataframe\">\n",
       "  <thead>\n",
       "    <tr style=\"text-align: right;\">\n",
       "      <th></th>\n",
       "      <th>FID_1</th>\n",
       "      <th>pointid</th>\n",
       "      <th>grid_code</th>\n",
       "      <th>population</th>\n",
       "      <th>distance_m</th>\n",
       "      <th>Count_</th>\n",
       "      <th>Sum_catego</th>\n",
       "      <th>Sum_checki</th>\n",
       "      <th>Sum_chec_1</th>\n",
       "      <th>Sum_city</th>\n",
       "      <th>...</th>\n",
       "      <th>Sum_pintu</th>\n",
       "      <th>Sum_postco</th>\n",
       "      <th>Sum_provin</th>\n",
       "      <th>Sum_sale</th>\n",
       "      <th>Sum_select</th>\n",
       "      <th>Sum_spent</th>\n",
       "      <th>Sum_tip_nu</th>\n",
       "      <th>Sum_todo_n</th>\n",
       "      <th>Sum_weibo_</th>\n",
       "      <th>Sum_rowid_</th>\n",
       "    </tr>\n",
       "  </thead>\n",
       "  <tbody>\n",
       "    <tr>\n",
       "      <th>0</th>\n",
       "      <td> 0</td>\n",
       "      <td> 10501165</td>\n",
       "      <td>  691</td>\n",
       "      <td>  691</td>\n",
       "      <td> 76354.332567</td>\n",
       "      <td> 0</td>\n",
       "      <td> 0</td>\n",
       "      <td> 0</td>\n",
       "      <td> 0</td>\n",
       "      <td> 0</td>\n",
       "      <td>...</td>\n",
       "      <td> 0</td>\n",
       "      <td> 0</td>\n",
       "      <td> 0</td>\n",
       "      <td> 0</td>\n",
       "      <td> 0</td>\n",
       "      <td> 0</td>\n",
       "      <td> 0</td>\n",
       "      <td> 0</td>\n",
       "      <td> 0</td>\n",
       "      <td> 0</td>\n",
       "    </tr>\n",
       "    <tr>\n",
       "      <th>1</th>\n",
       "      <td> 1</td>\n",
       "      <td> 10501164</td>\n",
       "      <td> 2679</td>\n",
       "      <td> 2679</td>\n",
       "      <td> 76939.869577</td>\n",
       "      <td> 0</td>\n",
       "      <td> 0</td>\n",
       "      <td> 0</td>\n",
       "      <td> 0</td>\n",
       "      <td> 0</td>\n",
       "      <td>...</td>\n",
       "      <td> 0</td>\n",
       "      <td> 0</td>\n",
       "      <td> 0</td>\n",
       "      <td> 0</td>\n",
       "      <td> 0</td>\n",
       "      <td> 0</td>\n",
       "      <td> 0</td>\n",
       "      <td> 0</td>\n",
       "      <td> 0</td>\n",
       "      <td> 0</td>\n",
       "    </tr>\n",
       "    <tr>\n",
       "      <th>2</th>\n",
       "      <td> 2</td>\n",
       "      <td> 10501166</td>\n",
       "      <td>  274</td>\n",
       "      <td>  274</td>\n",
       "      <td> 75772.629127</td>\n",
       "      <td> 0</td>\n",
       "      <td> 0</td>\n",
       "      <td> 0</td>\n",
       "      <td> 0</td>\n",
       "      <td> 0</td>\n",
       "      <td>...</td>\n",
       "      <td> 0</td>\n",
       "      <td> 0</td>\n",
       "      <td> 0</td>\n",
       "      <td> 0</td>\n",
       "      <td> 0</td>\n",
       "      <td> 0</td>\n",
       "      <td> 0</td>\n",
       "      <td> 0</td>\n",
       "      <td> 0</td>\n",
       "      <td> 0</td>\n",
       "    </tr>\n",
       "    <tr>\n",
       "      <th>3</th>\n",
       "      <td> 3</td>\n",
       "      <td> 10501163</td>\n",
       "      <td>  278</td>\n",
       "      <td>  278</td>\n",
       "      <td> 77529.153296</td>\n",
       "      <td> 0</td>\n",
       "      <td> 0</td>\n",
       "      <td> 0</td>\n",
       "      <td> 0</td>\n",
       "      <td> 0</td>\n",
       "      <td>...</td>\n",
       "      <td> 0</td>\n",
       "      <td> 0</td>\n",
       "      <td> 0</td>\n",
       "      <td> 0</td>\n",
       "      <td> 0</td>\n",
       "      <td> 0</td>\n",
       "      <td> 0</td>\n",
       "      <td> 0</td>\n",
       "      <td> 0</td>\n",
       "      <td> 0</td>\n",
       "    </tr>\n",
       "    <tr>\n",
       "      <th>4</th>\n",
       "      <td> 4</td>\n",
       "      <td> 10501167</td>\n",
       "      <td> 4051</td>\n",
       "      <td> 4051</td>\n",
       "      <td> 75194.848230</td>\n",
       "      <td> 0</td>\n",
       "      <td> 0</td>\n",
       "      <td> 0</td>\n",
       "      <td> 0</td>\n",
       "      <td> 0</td>\n",
       "      <td>...</td>\n",
       "      <td> 0</td>\n",
       "      <td> 0</td>\n",
       "      <td> 0</td>\n",
       "      <td> 0</td>\n",
       "      <td> 0</td>\n",
       "      <td> 0</td>\n",
       "      <td> 0</td>\n",
       "      <td> 0</td>\n",
       "      <td> 0</td>\n",
       "      <td> 0</td>\n",
       "    </tr>\n",
       "  </tbody>\n",
       "</table>\n",
       "<p>5 rows × 28 columns</p>\n",
       "</div>"
      ],
      "text/plain": [
       "   FID_1   pointid  grid_code  population    distance_m  Count_  Sum_catego  \\\n",
       "0      0  10501165        691         691  76354.332567       0           0   \n",
       "1      1  10501164       2679        2679  76939.869577       0           0   \n",
       "2      2  10501166        274         274  75772.629127       0           0   \n",
       "3      3  10501163        278         278  77529.153296       0           0   \n",
       "4      4  10501167       4051        4051  75194.848230       0           0   \n",
       "\n",
       "   Sum_checki  Sum_chec_1  Sum_city    ...     Sum_pintu  Sum_postco  \\\n",
       "0           0           0         0    ...             0           0   \n",
       "1           0           0         0    ...             0           0   \n",
       "2           0           0         0    ...             0           0   \n",
       "3           0           0         0    ...             0           0   \n",
       "4           0           0         0    ...             0           0   \n",
       "\n",
       "   Sum_provin  Sum_sale  Sum_select  Sum_spent  Sum_tip_nu  Sum_todo_n  \\\n",
       "0           0         0           0          0           0           0   \n",
       "1           0         0           0          0           0           0   \n",
       "2           0         0           0          0           0           0   \n",
       "3           0         0           0          0           0           0   \n",
       "4           0         0           0          0           0           0   \n",
       "\n",
       "   Sum_weibo_  Sum_rowid_  \n",
       "0           0           0  \n",
       "1           0           0  \n",
       "2           0           0  \n",
       "3           0           0  \n",
       "4           0           0  \n",
       "\n",
       "[5 rows x 28 columns]"
      ]
     },
     "execution_count": 37,
     "metadata": {},
     "output_type": "execute_result"
    }
   ],
   "source": [
    "## Make sure everything imported correctly for Weibo Data\n",
    "print weibo_SH.columns\n",
    "weibo_SH.head()"
   ]
  },
  {
   "cell_type": "code",
   "execution_count": 38,
   "metadata": {
    "collapsed": false
   },
   "outputs": [
    {
     "name": "stdout",
     "output_type": "stream",
     "text": [
      "Index([u'pointid', u'grid_code', u'population', u'distance_m'], dtype='object')\n"
     ]
    },
    {
     "data": {
      "text/html": [
       "<div style=\"max-height:1000px;max-width:1500px;overflow:auto;\">\n",
       "<table border=\"1\" class=\"dataframe\">\n",
       "  <thead>\n",
       "    <tr style=\"text-align: right;\">\n",
       "      <th></th>\n",
       "      <th>pointid</th>\n",
       "      <th>grid_code</th>\n",
       "      <th>population</th>\n",
       "      <th>distance_m</th>\n",
       "    </tr>\n",
       "  </thead>\n",
       "  <tbody>\n",
       "    <tr>\n",
       "      <th>0</th>\n",
       "      <td> 10501165</td>\n",
       "      <td>  691</td>\n",
       "      <td>  691</td>\n",
       "      <td> 76354.332567</td>\n",
       "    </tr>\n",
       "    <tr>\n",
       "      <th>1</th>\n",
       "      <td> 10501164</td>\n",
       "      <td> 2679</td>\n",
       "      <td> 2679</td>\n",
       "      <td> 76939.869577</td>\n",
       "    </tr>\n",
       "    <tr>\n",
       "      <th>2</th>\n",
       "      <td> 10501166</td>\n",
       "      <td>  274</td>\n",
       "      <td>  274</td>\n",
       "      <td> 75772.629127</td>\n",
       "    </tr>\n",
       "    <tr>\n",
       "      <th>3</th>\n",
       "      <td> 10501163</td>\n",
       "      <td>  278</td>\n",
       "      <td>  278</td>\n",
       "      <td> 77529.153296</td>\n",
       "    </tr>\n",
       "    <tr>\n",
       "      <th>4</th>\n",
       "      <td> 10501167</td>\n",
       "      <td> 4051</td>\n",
       "      <td> 4051</td>\n",
       "      <td> 75194.848230</td>\n",
       "    </tr>\n",
       "  </tbody>\n",
       "</table>\n",
       "</div>"
      ],
      "text/plain": [
       "    pointid  grid_code  population    distance_m\n",
       "0  10501165        691         691  76354.332567\n",
       "1  10501164       2679        2679  76939.869577\n",
       "2  10501166        274         274  75772.629127\n",
       "3  10501163        278         278  77529.153296\n",
       "4  10501167       4051        4051  75194.848230"
      ]
     },
     "execution_count": 38,
     "metadata": {},
     "output_type": "execute_result"
    }
   ],
   "source": [
    "## Make sure everything imported correctly for LandScan data\n",
    "print landscan_SH.columns\n",
    "landscan_SH.head()"
   ]
  },
  {
   "cell_type": "code",
   "execution_count": 39,
   "metadata": {
    "collapsed": false
   },
   "outputs": [
    {
     "data": {
      "text/html": [
       "<div style=\"max-height:1000px;max-width:1500px;overflow:auto;\">\n",
       "<table border=\"1\" class=\"dataframe\">\n",
       "  <thead>\n",
       "    <tr style=\"text-align: right;\">\n",
       "      <th></th>\n",
       "      <th>FID</th>\n",
       "      <th>ID</th>\n",
       "      <th>grid_code</th>\n",
       "      <th>count_POIs</th>\n",
       "      <th>sum_checkin</th>\n",
       "    </tr>\n",
       "  </thead>\n",
       "  <tbody>\n",
       "    <tr>\n",
       "      <th>0</th>\n",
       "      <td> 0</td>\n",
       "      <td> 10501165</td>\n",
       "      <td>  691</td>\n",
       "      <td> 0</td>\n",
       "      <td> 0</td>\n",
       "    </tr>\n",
       "    <tr>\n",
       "      <th>1</th>\n",
       "      <td> 1</td>\n",
       "      <td> 10501164</td>\n",
       "      <td> 2679</td>\n",
       "      <td> 0</td>\n",
       "      <td> 0</td>\n",
       "    </tr>\n",
       "    <tr>\n",
       "      <th>2</th>\n",
       "      <td> 2</td>\n",
       "      <td> 10501166</td>\n",
       "      <td>  274</td>\n",
       "      <td> 0</td>\n",
       "      <td> 0</td>\n",
       "    </tr>\n",
       "    <tr>\n",
       "      <th>3</th>\n",
       "      <td> 3</td>\n",
       "      <td> 10501163</td>\n",
       "      <td>  278</td>\n",
       "      <td> 0</td>\n",
       "      <td> 0</td>\n",
       "    </tr>\n",
       "    <tr>\n",
       "      <th>4</th>\n",
       "      <td> 4</td>\n",
       "      <td> 10501167</td>\n",
       "      <td> 4051</td>\n",
       "      <td> 0</td>\n",
       "      <td> 0</td>\n",
       "    </tr>\n",
       "  </tbody>\n",
       "</table>\n",
       "</div>"
      ],
      "text/plain": [
       "   FID        ID  grid_code  count_POIs  sum_checkin\n",
       "0    0  10501165        691           0            0\n",
       "1    1  10501164       2679           0            0\n",
       "2    2  10501166        274           0            0\n",
       "3    3  10501163        278           0            0\n",
       "4    4  10501167       4051           0            0"
      ]
     },
     "execution_count": 39,
     "metadata": {},
     "output_type": "execute_result"
    }
   ],
   "source": [
    "## Drop unnecessary columns in dataframe and give columns more accurate names for WEIBO\n",
    "\n",
    "weibo_SH = weibo_SH.drop([ u'population', u'distance_m', u'Sum_catego',\\\n",
    "                          u'Sum_chec_1', u'Sum_city', u'Sum_dianpi', u'Sum_distan', u'Sum_distri',\\\n",
    "                          u'Sum_enterp', u'Sum_hereno', u'Sum_lat', u'Sum_lon', u'Sum_photo_', u'Sum_pintu', u'Sum_postco',\\\n",
    "                          u'Sum_provin', u'Sum_sale', u'Sum_select', u'Sum_spent', u'Sum_tip_nu', u'Sum_todo_n', u'Sum_weibo_',\\\n",
    "                          u'Sum_rowid_'],axis = 1)\n",
    "\n",
    "\n",
    "weibo_SH.columns = ['FID','ID','grid_code','count_POIs','sum_checkin']\n",
    "weibo_SH.head()\n",
    "\n"
   ]
  },
  {
   "cell_type": "code",
   "execution_count": 47,
   "metadata": {
    "collapsed": false
   },
   "outputs": [
    {
     "data": {
      "text/html": [
       "<div style=\"max-height:1000px;max-width:1500px;overflow:auto;\">\n",
       "<table border=\"1\" class=\"dataframe\">\n",
       "  <thead>\n",
       "    <tr style=\"text-align: right;\">\n",
       "      <th></th>\n",
       "      <th>ID</th>\n",
       "      <th>grid_code</th>\n",
       "      <th>pop_count</th>\n",
       "    </tr>\n",
       "  </thead>\n",
       "  <tbody>\n",
       "    <tr>\n",
       "      <th>0</th>\n",
       "      <td> 10501165</td>\n",
       "      <td>  691</td>\n",
       "      <td>  691</td>\n",
       "    </tr>\n",
       "    <tr>\n",
       "      <th>1</th>\n",
       "      <td> 10501164</td>\n",
       "      <td> 2679</td>\n",
       "      <td> 2679</td>\n",
       "    </tr>\n",
       "    <tr>\n",
       "      <th>2</th>\n",
       "      <td> 10501166</td>\n",
       "      <td>  274</td>\n",
       "      <td>  274</td>\n",
       "    </tr>\n",
       "    <tr>\n",
       "      <th>3</th>\n",
       "      <td> 10501163</td>\n",
       "      <td>  278</td>\n",
       "      <td>  278</td>\n",
       "    </tr>\n",
       "    <tr>\n",
       "      <th>4</th>\n",
       "      <td> 10501167</td>\n",
       "      <td> 4051</td>\n",
       "      <td> 4051</td>\n",
       "    </tr>\n",
       "  </tbody>\n",
       "</table>\n",
       "</div>"
      ],
      "text/plain": [
       "         ID  grid_code  pop_count\n",
       "0  10501165        691        691\n",
       "1  10501164       2679       2679\n",
       "2  10501166        274        274\n",
       "3  10501163        278        278\n",
       "4  10501167       4051       4051"
      ]
     },
     "execution_count": 47,
     "metadata": {},
     "output_type": "execute_result"
    }
   ],
   "source": [
    "## Drop unnecessary columns in dataframe and give columns more accurate names for LANDSCAN\n",
    "\n",
    "landscan_SH = landscan_SH.drop(['distance_m'],axis = 1)\n",
    "landscan_SH.columns = ['ID','grid_code','pop_count']\n",
    "landscan_SH.head()\n",
    "\n"
   ]
  },
  {
   "cell_type": "code",
   "execution_count": 1,
   "metadata": {
    "collapsed": false
   },
   "outputs": [
    {
     "ename": "NameError",
     "evalue": "name 'plt' is not defined",
     "output_type": "error",
     "traceback": [
      "\u001b[0;31m---------------------------------------------------------------------------\u001b[0m",
      "\u001b[0;31mNameError\u001b[0m                                 Traceback (most recent call last)",
      "\u001b[0;32m<ipython-input-1-80feae933928>\u001b[0m in \u001b[0;36m<module>\u001b[0;34m()\u001b[0m\n\u001b[1;32m      1\u001b[0m \u001b[0;31m## Histogram of Logged Landscan count\u001b[0m\u001b[0;34m\u001b[0m\u001b[0;34m\u001b[0m\u001b[0m\n\u001b[1;32m      2\u001b[0m \u001b[0;34m\u001b[0m\u001b[0m\n\u001b[0;32m----> 3\u001b[0;31m \u001b[0mfig\u001b[0m \u001b[0;34m=\u001b[0m \u001b[0mplt\u001b[0m\u001b[0;34m.\u001b[0m\u001b[0mfigure\u001b[0m\u001b[0;34m(\u001b[0m\u001b[0;34m)\u001b[0m\u001b[0;34m\u001b[0m\u001b[0m\n\u001b[0m\u001b[1;32m      4\u001b[0m \u001b[0max\u001b[0m \u001b[0;34m=\u001b[0m \u001b[0mfig\u001b[0m\u001b[0;34m.\u001b[0m\u001b[0madd_subplot\u001b[0m\u001b[0;34m(\u001b[0m\u001b[0;36m111\u001b[0m\u001b[0;34m)\u001b[0m\u001b[0;34m\u001b[0m\u001b[0m\n\u001b[1;32m      5\u001b[0m \u001b[0max\u001b[0m\u001b[0;34m.\u001b[0m\u001b[0mhist\u001b[0m\u001b[0;34m(\u001b[0m\u001b[0;34m[\u001b[0m\u001b[0mm\u001b[0m\u001b[0;34m.\u001b[0m\u001b[0mlog\u001b[0m\u001b[0;34m(\u001b[0m\u001b[0mx\u001b[0m\u001b[0;34m+\u001b[0m\u001b[0;36m1\u001b[0m\u001b[0;34m)\u001b[0m \u001b[0;32mfor\u001b[0m \u001b[0mx\u001b[0m \u001b[0;32min\u001b[0m \u001b[0mlandscan_SH\u001b[0m\u001b[0;34m.\u001b[0m\u001b[0mpop_count\u001b[0m\u001b[0;34m]\u001b[0m\u001b[0;34m,\u001b[0m\u001b[0mbins\u001b[0m\u001b[0;34m=\u001b[0m\u001b[0;36m30\u001b[0m\u001b[0;34m)\u001b[0m\u001b[0;34m\u001b[0m\u001b[0m\n",
      "\u001b[0;31mNameError\u001b[0m: name 'plt' is not defined"
     ]
    }
   ],
   "source": [
    "## Histogram of Logged Landscan count\n",
    "\n",
    "fig = plt.figure()\n",
    "ax = fig.add_subplot(111)\n",
    "ax.hist([m.log(x+1) for x in landscan_SH.pop_count],bins=30)\n",
    "\n",
    "\n",
    "ax.set_xlabel('Grid IDs from Landcsan')\n",
    "ax.set_ylabel('Normalized count on grid')\n",
    "ax.set_title('Logged Landscan counts per grid')\n",
    "plt.tight_layout()\n",
    "plt.show()"
   ]
  },
  {
   "cell_type": "code",
   "execution_count": 45,
   "metadata": {
    "collapsed": false
   },
   "outputs": [],
   "source": [
    "## Histogram of Logged Weibo count\n",
    "\n",
    "fig = plt.figure()\n",
    "ax = fig.add_subplot(111)\n",
    "ax.hist([m.log(x+1) for x in weibo_SH.sum_checkin],bins=30)\n",
    "# ax.hist(weibo_SH.sum_checkin,bins=20)\n",
    "\n",
    "\n",
    "\n",
    "ax.set_xlabel('Grid IDs from Landcsan')\n",
    "ax.set_ylabel('Normalized count on grid')\n",
    "ax.set_title('Logged Weibo counts per grid')\n",
    "plt.tight_layout()\n",
    "plt.show()"
   ]
  },
  {
   "cell_type": "code",
   "execution_count": 53,
   "metadata": {
    "collapsed": false
   },
   "outputs": [],
   "source": [
    "##  Show scatter plots of original weibo and landscan side by side\n",
    "\n",
    "\n",
    "fig = plt.figure()\n",
    "ax = fig.add_subplot(111)\n",
    "ax.scatter(landscan_SH.ID, [x/float(max(landscan_SH.pop_count)) for x in landscan_SH.pop_count],marker=',',c='r',s =18)\n",
    "ax.scatter(weibo_SH.ID, [x/float(max(weibo_SH.sum_checkin)) for x in weibo_SH.sum_checkin],marker = 'o',c='b',s = 18)\n",
    "\n",
    "ax.set_xlabel('ID')\n",
    "ax.set_ylabel('Frequency')\n",
    "ax.set_title('Raw Weibo and Landscan Counts by ID ')\n",
    "plt.tight_layout()\n",
    "plt.show()\n",
    "\n",
    "\n",
    "# plt.scatter(weibo_SH.ID, weibo_SH.sum_checkin)\n",
    "# plt.show()"
   ]
  },
  {
   "cell_type": "code",
   "execution_count": 54,
   "metadata": {
    "collapsed": false
   },
   "outputs": [],
   "source": [
    "##  Show scatter plots of z-scores of weibo and landscan\n",
    "from scipy import stats\n",
    "\n",
    "\n",
    "fig = plt.figure()\n",
    "ax = fig.add_subplot(111)\n",
    "ax.scatter(landscan_SH.ID, stats.zscore(landscan_SH.pop_count),marker=',',c='r',s =18)\n",
    "ax.scatter(weibo_SH.ID, stats.zscore(weibo_SH.sum_checkin),marker = 'o',c='b',s = 18)\n",
    "\n",
    "ax.set_xlabel('ID')\n",
    "ax.set_ylabel('Z-Score')\n",
    "ax.set_title('Scatter Plot of Z-Scores for Weibo and Landscan')\n",
    "plt.tight_layout()\n",
    "plt.show()\n",
    "\n",
    "\n",
    "# plt.scatter(weibo_SH.ID, weibo_SH.sum_checkin)\n",
    "# plt.show()"
   ]
  },
  {
   "cell_type": "code",
   "execution_count": 25,
   "metadata": {
    "collapsed": false
   },
   "outputs": [
    {
     "ename": "KeyboardInterrupt",
     "evalue": "",
     "output_type": "error",
     "traceback": [
      "\u001b[0;31m---------------------------------------------------------------------------\u001b[0m\n\u001b[0;31mKeyboardInterrupt\u001b[0m                         Traceback (most recent call last)",
      "\u001b[0;32m/usr/local/Cellar/python/2.7.8_2/Frameworks/Python.framework/Versions/2.7/lib/python2.7/site-packages/matplotlib/backend_bases.pyc\u001b[0m in \u001b[0;36mkey_press_event\u001b[0;34m(self, key, guiEvent)\u001b[0m\n\u001b[1;32m   1836\u001b[0m             \u001b[0;31m# with an open window; 'callbacks' attribute no longer exists.\u001b[0m\u001b[0;34m\u001b[0m\u001b[0;34m\u001b[0m\u001b[0m\n\u001b[1;32m   1837\u001b[0m \u001b[0;34m\u001b[0m\u001b[0m\n\u001b[0;32m-> 1838\u001b[0;31m     \u001b[0;32mdef\u001b[0m \u001b[0mkey_press_event\u001b[0m\u001b[0;34m(\u001b[0m\u001b[0mself\u001b[0m\u001b[0;34m,\u001b[0m \u001b[0mkey\u001b[0m\u001b[0;34m,\u001b[0m \u001b[0mguiEvent\u001b[0m\u001b[0;34m=\u001b[0m\u001b[0mNone\u001b[0m\u001b[0;34m)\u001b[0m\u001b[0;34m:\u001b[0m\u001b[0;34m\u001b[0m\u001b[0m\n\u001b[0m\u001b[1;32m   1839\u001b[0m         \"\"\"\n\u001b[1;32m   1840\u001b[0m         \u001b[0mThis\u001b[0m \u001b[0mmethod\u001b[0m \u001b[0mwill\u001b[0m \u001b[0mbe\u001b[0m \u001b[0mcall\u001b[0m \u001b[0mall\u001b[0m \u001b[0mfunctions\u001b[0m \u001b[0mconnected\u001b[0m \u001b[0mto\u001b[0m \u001b[0mthe\u001b[0m\u001b[0;34m\u001b[0m\u001b[0m\n",
      "\u001b[0;31mKeyboardInterrupt\u001b[0m: "
     ]
    }
   ],
   "source": [
    "# ## Test plot with colormapping\n",
    "\n",
    "# landscan_SH_stddev = [(x - np.mean(landscan_SH.pop_count))/float(np.std(landscan_SH.pop_count)) for x in landscan_SH.pop_count]\n",
    "# landscan_SH_stddev_NORM = [(x - min(landscan_SH_stddev))/float(max(landscan_SH_stddev)-min(landscan_SH_stddev)) for x in landscan_SH_stddev]\n",
    "\n",
    "# cm = plt.get_cmap('hsv')\n",
    "# plt.scatter(landscan_SH.ID, landscan_SH.pop_count,marker=',', c=landscan_SH_stddev_NORM, cmap=cm,s =8)\n",
    "\n",
    "# plt.colorbar()\n",
    "# plt.show()"
   ]
  },
  {
   "cell_type": "code",
   "execution_count": 55,
   "metadata": {
    "collapsed": false
   },
   "outputs": [
    {
     "name": "stdout",
     "output_type": "stream",
     "text": [
      "[[ 1.          0.46056194]\n",
      " [ 0.46056194  1.        ]]\n"
     ]
    }
   ],
   "source": [
    "## Correlation analysis for raw data\n",
    "corr_SH = np.corrcoef(landscan_SH.sort('ID', ascending =True).pop_count, weibo_SH.sort('ID', ascending =True).sum_checkin)\n",
    "print corr_SH"
   ]
  },
  {
   "cell_type": "code",
   "execution_count": 56,
   "metadata": {
    "collapsed": false
   },
   "outputs": [
    {
     "name": "stdout",
     "output_type": "stream",
     "text": [
      "[[ 1.          0.57095237]\n",
      " [ 0.57095237  1.        ]]\n"
     ]
    }
   ],
   "source": [
    "## Correlation analysis for LOGGED data\n",
    "corr_SH = np.corrcoef([m.log(x+1) for x in landscan_SH.sort('ID', ascending =True).pop_count], [m.log(x+1) for x in weibo_SH.sort('ID', ascending =True).sum_checkin])\n",
    "print corr_SH"
   ]
  },
  {
   "cell_type": "code",
   "execution_count": 21,
   "metadata": {
    "collapsed": false
   },
   "outputs": [
    {
     "name": "stdout",
     "output_type": "stream",
     "text": [
      "[[ 1.          0.45161952]\n",
      " [ 0.45161952  1.        ]]\n"
     ]
    }
   ],
   "source": [
    "# ## Create joined dataset \n",
    "# joined_SH = pd.merge(landscan_SH.sort('ID', ascending =True), weibo_SH.sort('ID', ascending =True), how='inner')\n",
    "\n",
    "# ## Find correlation of just non-zero grids\n",
    "# corr_SH_new = np.corrcoef(joined_SH[joined_SH.sum_checkin !=0].pop_count, joined_SH[joined_SH.sum_checkin !=0].sum_checkin)\n",
    "# print corr_SH_new"
   ]
  },
  {
   "cell_type": "code",
   "execution_count": 61,
   "metadata": {
    "collapsed": false
   },
   "outputs": [],
   "source": [
    "## Find \"subtraction\" between Landscan and Weibo z-scores of LOGGED counts\n",
    "\n",
    "fig = plt.figure()\n",
    "ax = fig.add_subplot(111)\n",
    "\n",
    "ax.scatter(landscan_SH.ID,  stats.zscore([m.log(x+1) for x in landscan_SH.pop_count])- stats.zscore([m.log(x+1) for x in weibo_SH.sum_checkin]),marker=',',c='r',s =18)\n",
    "\n",
    "ax.set_xlabel('Grid IDs from Landcsan')\n",
    "ax.set_ylabel('Diff of Normalized Counts')\n",
    "ax.set_title('\"Subtraction\" between Weibo and Landscan Z-Scores counts by grid')\n",
    "plt.tight_layout()\n",
    "plt.show()\n",
    "\n"
   ]
  },
  {
   "cell_type": "code",
   "execution_count": 62,
   "metadata": {
    "collapsed": false
   },
   "outputs": [],
   "source": [
    "## Export Results of Z-score and subtraction analysis\n",
    "\n",
    "results_SH = landscan_SH\n",
    "results_SH['weibo_count'] = weibo_SH['sum_checkin']\n",
    "results_SH['zscore_Landscan']=stats.zscore(landscan_SH.pop_count)\n",
    "results_SH['zscore_ln_Landscan']=stats.zscore([m.log(x+1) for x in landscan_SH.pop_count])\n",
    "results_SH['zscore_Weibo']=stats.zscore([m.log(x+1) for x in weibo_SH.sum_checkin])\n",
    "results_SH['zscore_ln_Weibo']=stats.zscore(weibo_SH.sum_checkin)\n",
    "\n",
    "\n",
    "results_SH['diff'] = results_SH['zscore_Landscan']-results_SH['zscore_Weibo']\n",
    "results_SH['diff_ln'] = results_SH['zscore_ln_Landscan']-results_SH['zscore_ln_Weibo']\n",
    "results_SH.head()\n",
    "\n",
    "results_SH.to_csv('/Users/wenfeixu/Dropbox (MIT)/MIT/CDDL/STL_WeChatProject/0_data/Weibo_Landscan_Analysis/weibo_landscan_results_SH.csv',encoding=\"utf-8\")"
   ]
  },
  {
   "cell_type": "code",
   "execution_count": 22,
   "metadata": {
    "collapsed": false
   },
   "outputs": [],
   "source": [
    "# ##  Show scatter plots of weibo and landscan side by side with only non-zero Weibo checkins\n",
    "\n",
    "# # plt.scatter(weibo_SH.ID,[a/max(weibo_SH.sum_checkin) for a in weibo_SH.sum_checkin])\n",
    "\n",
    "# fig = plt.figure()\n",
    "# ax = fig.add_subplot(111)\n",
    "# ax.scatter(joined_SH[joined_SH.sum_checkin !=0].ID, [(x - np.mean(joined_SH[joined_SH.sum_checkin !=0].pop_count))\\\n",
    "#                                                      /float(np.std(joined_SH[joined_SH.sum_checkin !=0].pop_count)) for x in \\\n",
    "#                                                      joined_SH[joined_SH.sum_checkin !=0].pop_count]\\\n",
    "# ,marker=',',c='r',s =14)\n",
    "# ax.scatter(joined_SH[joined_SH.sum_checkin !=0].ID, [(x- np.mean(joined_SH[joined_SH.sum_checkin !=0].sum_checkin))\\\n",
    "#                                                       /float(np.std(joined_SH[joined_SH.sum_checkin !=0].sum_checkin)) for x in\\\n",
    "#                                                       joined_SH[joined_SH.sum_checkin !=0].sum_checkin]\\\n",
    "#                                                       ,marker = 'o',c='b',s = 14)\n",
    "\n",
    "# ax.set_xlabel('Grid IDs from Landcsan')\n",
    "# ax.set_ylabel('Normalized count on grid')\n",
    "# ax.set_title('Weibo and Landscan counts per grid')\n",
    "# plt.tight_layout()\n",
    "# plt.show()\n",
    "\n"
   ]
  }
 ],
 "metadata": {
  "kernelspec": {
   "display_name": "Python 2",
   "language": "python",
   "name": "python2"
  },
  "language_info": {
   "codemirror_mode": {
    "name": "ipython",
    "version": 2
   },
   "file_extension": ".py",
   "mimetype": "text/x-python",
   "name": "python",
   "nbconvert_exporter": "python",
   "pygments_lexer": "ipython2",
   "version": "2.7.11"
  }
 },
 "nbformat": 4,
 "nbformat_minor": 0
}
